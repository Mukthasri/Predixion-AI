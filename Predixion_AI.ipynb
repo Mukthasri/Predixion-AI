{
  "nbformat": 4,
  "nbformat_minor": 0,
  "metadata": {
    "colab": {
      "provenance": []
    },
    "kernelspec": {
      "name": "python3",
      "display_name": "Python 3"
    },
    "language_info": {
      "name": "python"
    }
  },
  "cells": [
    {
      "cell_type": "markdown",
      "source": [
        "# Importing a sentiment analysis model"
      ],
      "metadata": {
        "id": "cvC6FBWT0Kh6"
      }
    },
    {
      "cell_type": "code",
      "source": [
        "from transformers import pipeline\n",
        "\n",
        "# Load multilingual sentiment analysis model\n",
        "sentiment_pipeline = pipeline('sentiment-analysis', model='cardiffnlp/twitter-xlm-roberta-base-sentiment')"
      ],
      "metadata": {
        "id": "7ljQH8NTn7en"
      },
      "execution_count": 4,
      "outputs": []
    },
    {
      "cell_type": "code",
      "source": [
        "# Provided conversation\n",
        "conversation_text = \"\"\"\n",
        "Recovery Agent (RA): नमस्ते श्री कुमार, मैं एक्स वाई जेड फाइनेंस से बोल रहा हूं। आपके लोन के बारे में बात करनी थी।\n",
        "Borrower (B): हां, बोलिए। क्या बात है?\n",
        "RA: सर, आपका पिछले महीने का EMI अभी तक नहीं आया है। क्या कोई समस्या है?\n",
        "B: हां, थोड़ी दिक्कत है। मेरी नौकरी चली गई है और मैं नया काम ढूंढ रहा हूं।\n",
        "RA: ओह, यह तो बुरा हुआ। लेकिन सर, आपको समझना होगा कि लोन का भुगतान समय पर करना बहुत जरूरी है।\n",
        "B: मैं समझता हूं, लेकिन अभी मेरे पास पैसे नहीं हैं। क्या कुछ समय मिल सकता है?\n",
        "RA: हम समझते हैं आपकी स्थिति। क्या आप अगले हफ्ते तक कुछ भुगतान कर सकते हैं?\n",
        "B: मैं कोशिश करूंगा, लेकिन पूरा EMI नहीं दे पाऊंगा। क्या आधा भुगतान चलेगा?\n",
        "RA: ठीक है, आधा भुगतान अगले हफ्ते तक कर दीजिए। बाकी का क्या प्लान है आपका?\n",
        "B: मुझे उम्मीद है कि अगले महीने तक मुझे नया काम मिल जाएगा। तब मैं बाकी बकाया चुका दूंगा।\n",
        "RA: ठीक है। तो हम ऐसा करते हैं- आप अगले हफ्ते तक आधा EMI जमा कर दीजिए, और अगले महीने के 15 तारीख तक बाकी का भुगतान कर दीजिए। क्या यह आपको स्वीकार है?\n",
        "B: हां, यह ठीक रहेगा। मैं इस प्लान का पालन करने की पूरी कोशिश करूंगा।\n",
        "RA: बहुत अच्छा। मैं आपको एक SMS भेज रहा हूं जिसमें भुगतान की डिटेल्स होंगी। कृपया इसका पालन करें और समय पर भुगतान करें।\n",
        "B: ठीक है, धन्यवाद आपके समझने के लिए।\n",
        "RA: आपका स्वागत है। अगर कोई और सवाल हो तो मुझे बताइएगा। अलविदा।\n",
        "B: अलविदा।\n",
        "\"\"\"\n",
        "\n",
        "# Split conversation into sentences\n",
        "lines = [line.strip() for line in conversation_text.split(\"\\n\") if line.strip()]"
      ],
      "metadata": {
        "id": "DIrIPKLmpdwJ"
      },
      "execution_count": 11,
      "outputs": []
    },
    {
      "cell_type": "markdown",
      "source": [
        "# Generating summary, Keypoints and analysing sentiment of each sentence"
      ],
      "metadata": {
        "id": "pJ4tFCk00Vh-"
      }
    },
    {
      "cell_type": "code",
      "source": [
        "# Sentiment analysis for each sentence\n",
        "results = []\n",
        "for line in lines:\n",
        "    if \": \" in line:\n",
        "        speaker, message = line.split(\": \", 1)\n",
        "        sentiment = sentiment_pipeline(message)\n",
        "        results.append({\n",
        "            \"speaker\": speaker,\n",
        "            \"message\": message,\n",
        "            \"sentiment\": sentiment[0]['label'],\n",
        "            \"confidence\": sentiment[0]['score']\n",
        "        })\n",
        "\n",
        "# Count sentiments for each speaker\n",
        "ra_sentiments = {\"positive\": 0, \"negative\": 0, \"neutral\": 0}\n",
        "b_sentiments = {\"positive\": 0, \"negative\": 0, \"neutral\": 0}\n",
        "\n",
        "# Aggregate sentiment counts for each speaker\n",
        "for res in results:\n",
        "    if res[\"speaker\"].startswith(\"RA\"):\n",
        "        ra_sentiments[res[\"sentiment\"]] += 1\n",
        "    elif res[\"speaker\"].startswith(\"B\"):\n",
        "        b_sentiments[res[\"sentiment\"]] += 1\n",
        "\n",
        "# Determine overall sentiment based on majority\n",
        "def determine_overall_sentiment(sentiment_counts):\n",
        "    return max(sentiment_counts, key=sentiment_counts.get)\n",
        "\n",
        "# Get overall sentiments for RA and B\n",
        "overall_sentiment_ra = determine_overall_sentiment(ra_sentiments)\n",
        "overall_sentiment_b = determine_overall_sentiment(b_sentiments)\n",
        "\n",
        "# Generate Summary\n",
        "summary_set = set()\n",
        "for res in results:\n",
        "    if res[\"speaker\"].startswith(\"RA\"):\n",
        "        if \"EMI\" in res[\"message\"] or \"भुगतान\" in res[\"message\"]:\n",
        "            summary_set.add(\"The recovery agent discussed the overdue EMI and emphasized timely payment.\")\n",
        "    if res[\"speaker\"].startswith(\"B\"):\n",
        "        if \"दिक्कत\" in res[\"message\"] or \"नौकरी\" in res[\"message\"]:\n",
        "            summary_set.add(\"The borrower mentioned facing financial difficulties due to job loss.\")\n",
        "        if \"आधा भुगतान\" in res[\"message\"]:\n",
        "            summary_set.add(\"The borrower proposed paying half the EMI and clearing the rest after finding a new job.\")\n",
        "\n",
        "# Convert set back to list for ordered output\n",
        "summary = list(summary_set)\n",
        "\n",
        "# Extract Key Actions\n",
        "key_actions_set = set()\n",
        "for res in results:\n",
        "    if \"अगले हफ्ते\" in res[\"message\"] or \"SMS\" in res[\"message\"]:\n",
        "        key_actions_set.add(\"The borrower agreed to pay half the EMI next week.\")\n",
        "    if \"15 तारीख तक\" in res[\"message\"]:\n",
        "        key_actions_set.add(\"The borrower agreed to pay the remaining EMI by the 15th of next month.\")\n",
        "    if \"SMS भेज रहा हूं\" in res[\"message\"]:\n",
        "        key_actions_set.add(\"The recovery agent will send SMS details for payment.\")\n",
        "\n",
        "# Convert set back to list for ordered output\n",
        "key_actions = list(key_actions_set)"
      ],
      "metadata": {
        "id": "uxevDbYsyKJR"
      },
      "execution_count": 15,
      "outputs": []
    },
    {
      "cell_type": "code",
      "source": [
        "# Display Results\n",
        "\n",
        "print(\"\\nConcise Summary of the Conversation:\\n\")\n",
        "for s in summary:\n",
        "    print(f\"- {s}\")\n",
        "\n",
        "print(\"\\nKey Actions or Next Steps:\\n\")\n",
        "for action in key_actions:\n",
        "    print(f\"- {action}\")\n",
        "\n",
        "print(\"\\nSentence wise Sentiment Analysis:\\n\")\n",
        "for res in results:\n",
        "    print(f\"{res['speaker']}: {res['message']} -> Sentiment: {res['sentiment']} (Confidence: {res['confidence']:.2f})\")\n",
        "\n",
        "print(f\"\\nOverall Sentiment for RA: {overall_sentiment_ra}\")\n",
        "print(f\"Overall Sentiment for B: {overall_sentiment_b}\")"
      ],
      "metadata": {
        "colab": {
          "base_uri": "https://localhost:8080/"
        },
        "id": "YragjF-Myguf",
        "outputId": "1e202e9b-a2ac-4035-85b0-82f5a9681a7b"
      },
      "execution_count": 17,
      "outputs": [
        {
          "output_type": "stream",
          "name": "stdout",
          "text": [
            "\n",
            "Concise Summary of the Conversation:\n",
            "\n",
            "- The borrower mentioned facing financial difficulties due to job loss.\n",
            "- The recovery agent discussed the overdue EMI and emphasized timely payment.\n",
            "- The borrower proposed paying half the EMI and clearing the rest after finding a new job.\n",
            "\n",
            "Key Actions or Next Steps:\n",
            "\n",
            "- The recovery agent will send SMS details for payment.\n",
            "- The borrower agreed to pay half the EMI next week.\n",
            "- The borrower agreed to pay the remaining EMI by the 15th of next month.\n",
            "\n",
            "Sentence wise Sentiment Analysis:\n",
            "\n",
            "Recovery Agent (RA): नमस्ते श्री कुमार, मैं एक्स वाई जेड फाइनेंस से बोल रहा हूं। आपके लोन के बारे में बात करनी थी। -> Sentiment: neutral (Confidence: 0.69)\n",
            "Borrower (B): हां, बोलिए। क्या बात है? -> Sentiment: neutral (Confidence: 0.62)\n",
            "RA: सर, आपका पिछले महीने का EMI अभी तक नहीं आया है। क्या कोई समस्या है? -> Sentiment: neutral (Confidence: 0.57)\n",
            "B: हां, थोड़ी दिक्कत है। मेरी नौकरी चली गई है और मैं नया काम ढूंढ रहा हूं। -> Sentiment: negative (Confidence: 0.76)\n",
            "RA: ओह, यह तो बुरा हुआ। लेकिन सर, आपको समझना होगा कि लोन का भुगतान समय पर करना बहुत जरूरी है। -> Sentiment: negative (Confidence: 0.58)\n",
            "B: मैं समझता हूं, लेकिन अभी मेरे पास पैसे नहीं हैं। क्या कुछ समय मिल सकता है? -> Sentiment: neutral (Confidence: 0.52)\n",
            "RA: हम समझते हैं आपकी स्थिति। क्या आप अगले हफ्ते तक कुछ भुगतान कर सकते हैं? -> Sentiment: neutral (Confidence: 0.67)\n",
            "B: मैं कोशिश करूंगा, लेकिन पूरा EMI नहीं दे पाऊंगा। क्या आधा भुगतान चलेगा? -> Sentiment: negative (Confidence: 0.54)\n",
            "RA: ठीक है, आधा भुगतान अगले हफ्ते तक कर दीजिए। बाकी का क्या प्लान है आपका? -> Sentiment: neutral (Confidence: 0.61)\n",
            "B: मुझे उम्मीद है कि अगले महीने तक मुझे नया काम मिल जाएगा। तब मैं बाकी बकाया चुका दूंगा। -> Sentiment: positive (Confidence: 0.59)\n",
            "RA: ठीक है। तो हम ऐसा करते हैं- आप अगले हफ्ते तक आधा EMI जमा कर दीजिए, और अगले महीने के 15 तारीख तक बाकी का भुगतान कर दीजिए। क्या यह आपको स्वीकार है? -> Sentiment: neutral (Confidence: 0.58)\n",
            "B: हां, यह ठीक रहेगा। मैं इस प्लान का पालन करने की पूरी कोशिश करूंगा। -> Sentiment: positive (Confidence: 0.76)\n",
            "RA: बहुत अच्छा। मैं आपको एक SMS भेज रहा हूं जिसमें भुगतान की डिटेल्स होंगी। कृपया इसका पालन करें और समय पर भुगतान करें। -> Sentiment: positive (Confidence: 0.56)\n",
            "B: ठीक है, धन्यवाद आपके समझने के लिए। -> Sentiment: positive (Confidence: 0.77)\n",
            "RA: आपका स्वागत है। अगर कोई और सवाल हो तो मुझे बताइएगा। अलविदा। -> Sentiment: positive (Confidence: 0.55)\n",
            "B: अलविदा। -> Sentiment: positive (Confidence: 0.49)\n",
            "\n",
            "Overall Sentiment for RA: neutral\n",
            "Overall Sentiment for B: positive\n"
          ]
        }
      ]
    }
  ]
}